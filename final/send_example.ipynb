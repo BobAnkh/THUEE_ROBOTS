{
 "cells": [
  {
   "cell_type": "code",
   "execution_count": 1,
   "metadata": {},
   "outputs": [],
   "source": [
    "import socket"
   ]
  },
  {
   "cell_type": "code",
   "execution_count": 5,
   "metadata": {},
   "outputs": [],
   "source": [
    "#ip需要是主机的ip，port和主机程序中保持一致\n",
    "ip = \"192.168.43.9\"\n",
    "'''This ip is your server machine's ip '''\n",
    "port = 12362"
   ]
  },
  {
   "cell_type": "code",
   "execution_count": 6,
   "metadata": {},
   "outputs": [],
   "source": [
    "def send_common(text):\n",
    "\n",
    "    c = socket.socket(socket.AF_INET, socket.SOCK_STREAM)\n",
    "    c.connect((ip, port))\n",
    "\n",
    "    c.send(bytes(text,encoding = \"utf-8\"))\n",
    "    rep = c.recv(1000)\n",
    "    print(str(rep, encoding=\"utf-8\"))\n",
    "    c.close()\n",
    "    return str(rep, encoding=\"utf-8\")"
   ]
  },
  {
   "cell_type": "code",
   "execution_count": 7,
   "metadata": {},
   "outputs": [
    {
     "output_type": "stream",
     "name": "stdout",
     "text": [
      "ok\n"
     ]
    },
    {
     "output_type": "execute_result",
     "data": {
      "text/plain": [
       "'ok'"
      ]
     },
     "metadata": {},
     "execution_count": 7
    }
   ],
   "source": [
    "#第一次发送时，需要发red/blue，成功发送后会收到'ok'\n",
    "send_common('red')"
   ]
  },
  {
   "cell_type": "code",
   "execution_count": 10,
   "metadata": {},
   "outputs": [
    {
     "output_type": "stream",
     "name": "stdout",
     "text": [
      "{\"Location\":[0,0],\"Barrier\":[1,1],\"Target\":[2,3],\"Start\":[1,1],\"End\":[1,1],\"Type\":\"red\"}\n"
     ]
    },
    {
     "output_type": "execute_result",
     "data": {
      "text/plain": [
       "'{\"Location\":[0,0],\"Barrier\":[1,1],\"Target\":[2,3],\"Start\":[1,1],\"End\":[1,1],\"Type\":\"red\"}'"
      ]
     },
     "metadata": {},
     "execution_count": 10
    }
   ],
   "source": [
    "#之后发送任意字符串均可以收到机器人当前位置，障碍物等信息，编码格式见大作业指导书\n",
    "send_common('rd')"
   ]
  },
  {
   "cell_type": "code",
   "execution_count": null,
   "metadata": {},
   "outputs": [],
   "source": []
  },
  {
   "cell_type": "code",
   "execution_count": null,
   "metadata": {},
   "outputs": [],
   "source": []
  }
 ],
 "metadata": {
  "kernelspec": {
   "display_name": "Python 3",
   "language": "python",
   "name": "python3"
  },
  "language_info": {
   "codemirror_mode": {
    "name": "ipython",
    "version": 3
   },
   "file_extension": ".py",
   "mimetype": "text/x-python",
   "name": "python",
   "nbconvert_exporter": "python",
   "pygments_lexer": "ipython3",
   "version": "3.8.3-final"
  }
 },
 "nbformat": 4,
 "nbformat_minor": 4
}
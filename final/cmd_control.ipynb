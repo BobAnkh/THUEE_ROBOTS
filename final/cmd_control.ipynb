{
 "cells": [
  {
   "cell_type": "code",
   "execution_count": 5,
   "metadata": {},
   "outputs": [
    {
     "output_type": "error",
     "ename": "ModuleNotFoundError",
     "evalue": "No module named 'serial'",
     "traceback": [
      "\u001b[1;31m---------------------------------------------------------------------------\u001b[0m",
      "\u001b[1;31mModuleNotFoundError\u001b[0m                       Traceback (most recent call last)",
      "\u001b[1;32m<ipython-input-5-7b4bbfc91e55>\u001b[0m in \u001b[0;36m<module>\u001b[1;34m\u001b[0m\n\u001b[0;32m      1\u001b[0m \u001b[1;32mimport\u001b[0m \u001b[0mbinascii\u001b[0m\u001b[1;33m\u001b[0m\u001b[1;33m\u001b[0m\u001b[0m\n\u001b[1;32m----> 2\u001b[1;33m \u001b[1;32mimport\u001b[0m \u001b[0mserial\u001b[0m\u001b[1;33m\u001b[0m\u001b[1;33m\u001b[0m\u001b[0m\n\u001b[0m\u001b[0;32m      3\u001b[0m \u001b[1;32mimport\u001b[0m \u001b[0mos\u001b[0m\u001b[1;33m\u001b[0m\u001b[1;33m\u001b[0m\u001b[0m\n",
      "\u001b[1;31mModuleNotFoundError\u001b[0m: No module named 'serial'"
     ]
    }
   ],
   "source": [
    "import binascii\n",
    "import serial\n",
    "import os"
   ]
  },
  {
   "cell_type": "code",
   "execution_count": 2,
   "metadata": {},
   "outputs": [
    {
     "data": {
      "text/plain": [
       "0"
      ]
     },
     "execution_count": 2,
     "metadata": {},
     "output_type": "execute_result"
    }
   ],
   "source": [
    "os.system('sh ./stop_sys_ttyPS0.sh')"
   ]
  },
  {
   "cell_type": "code",
   "execution_count": 3,
   "metadata": {},
   "outputs": [],
   "source": [
    "def run_action(cmd):\n",
    "    ser = serial.Serial(\"/dev/ttyPS0\", 9600, timeout=5)\n",
    "    cnt_err = 0\n",
    "    while 1:\n",
    "        test_read = ser.read()\n",
    "        print('test_read', test_read)\n",
    "        cnt_err += 1\n",
    "        if test_read== b'\\xa3' or cnt_err == 50:\n",
    "            break\n",
    "    \n",
    "    if cnt_err == 50:\n",
    "        print('can not get REQ')\n",
    "    else:\n",
    "        print('read REQ finished!')\n",
    "        ser.write(cmd2data(cmd))\n",
    "        print('send action ok!')\n",
    "    ser.close()"
   ]
  },
  {
   "cell_type": "code",
   "execution_count": 4,
   "metadata": {},
   "outputs": [],
   "source": [
    "def crc_calculate(package):\n",
    "    crc = 0\n",
    "    for hex_data in package:\n",
    "\n",
    "        b2 = hex_data.to_bytes(1, byteorder='little')\n",
    "        crc = binascii.crc_hqx(b2, crc)\n",
    "\n",
    "    return [(crc >> 8), (crc & 255)]    # 校验位两位"
   ]
  },
  {
   "cell_type": "code",
   "execution_count": 5,
   "metadata": {},
   "outputs": [],
   "source": [
    "def cmd2data(cmd):\n",
    "    cnt=0\n",
    "    cmd_list=[]\n",
    "    for i in cmd:\n",
    "        cnt+=1\n",
    "        cmd_list+=[ord(i)]\n",
    "    cmd_list=[0xff,0xff]+[(cnt+5)>>8,(cnt+5)&255]+[0x01,(cnt+1)&255,0x03]+cmd_list\n",
    "    cmd_list=cmd_list+crc_calculate(cmd_list)\n",
    "    return cmd_list"
   ]
  },
  {
   "cell_type": "code",
   "execution_count": 45,
   "metadata": {},
   "outputs": [],
   "source": [
    "def wait_req():\n",
    "    ser = serial.Serial(\"/dev/ttyPS0\", 9600, timeout=5)\n",
    "    while 1:\n",
    "        test_read=ser.read()\n",
    "        if test_read== b'\\xa3' :\n",
    "            print('read REQ finished!') \n",
    "            break\n",
    "        "
   ]
  },
  {
   "cell_type": "code",
   "execution_count": 48,
   "metadata": {},
   "outputs": [
    {
     "name": "stdout",
     "output_type": "stream",
     "text": [
      "test_read b'\\xff'\n",
      "test_read b'\\xff'\n",
      "test_read b'\\x00'\n",
      "test_read b'\\x0c'\n",
      "test_read b'\\x04'\n",
      "test_read b'R'\n",
      "test_read b'E'\n",
      "test_read b'Q'\n",
      "test_read b'\\x00'\n",
      "test_read b'\\x01'\n",
      "test_read b'\\x03'\n",
      "test_read b'\\x02'\n",
      "test_read b'\\x00'\n",
      "test_read b'\\x00'\n",
      "test_read b'\\x8e'\n",
      "test_read b'\\xa3'\n",
      "read REQ finished!\n",
      "send action ok!\n",
      "read REQ finished!\n",
      "test_read b'\\xff'\n",
      "test_read b'\\xff'\n",
      "test_read b'\\x00'\n",
      "test_read b'\\x0e'\n",
      "test_read b'\\x06'\n",
      "test_read b'E'\n",
      "test_read b'R'\n",
      "test_read b'R'\n",
      "test_read b'O'\n",
      "test_read b'R'\n",
      "test_read b'\\x00'\n",
      "test_read b'\\x01'\n",
      "test_read b'\\x03'\n",
      "test_read b'\\x02'\n",
      "test_read b'\\x00'\n",
      "test_read b'\\x00'\n",
      "test_read b' '\n",
      "test_read b'\\x13'\n",
      "test_read b'\\xff'\n",
      "test_read b'\\xff'\n",
      "test_read b'\\x00'\n",
      "test_read b'\\x0c'\n",
      "test_read b'\\x04'\n",
      "test_read b'R'\n",
      "test_read b'E'\n",
      "test_read b'Q'\n",
      "test_read b'\\x00'\n",
      "test_read b'\\x01'\n",
      "test_read b'\\x03'\n",
      "test_read b'\\x02'\n",
      "test_read b'\\x00'\n",
      "test_read b'\\x00'\n",
      "test_read b'\\x8e'\n",
      "test_read b'\\xa3'\n",
      "read REQ finished!\n",
      "send action ok!\n"
     ]
    }
   ],
   "source": [
    "run_action('XiaDun')\n",
    "wait_req()\n",
    "run_action('Stand')"
   ]
  },
  {
   "cell_type": "code",
   "execution_count": null,
   "metadata": {},
   "outputs": [],
   "source": []
  }
 ],
 "metadata": {
  "kernelspec": {
   "display_name": "Python 3",
   "language": "python",
   "name": "python3"
  },
  "language_info": {
   "codemirror_mode": {
    "name": "ipython",
    "version": 3
   },
   "file_extension": ".py",
   "mimetype": "text/x-python",
   "name": "python",
   "nbconvert_exporter": "python",
   "pygments_lexer": "ipython3",
   "version": "3.8.3-final"
  }
 },
 "nbformat": 4,
 "nbformat_minor": 2
}